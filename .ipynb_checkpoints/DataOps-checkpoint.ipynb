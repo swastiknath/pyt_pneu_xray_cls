{
 "cells": [
  {
   "cell_type": "code",
   "execution_count": 1,
   "metadata": {},
   "outputs": [],
   "source": [
    "import os\n",
    "import numpy as np\n",
    "import pandas as pd\n",
    "import matplotlib.pyplot as plt\n",
    "%matplotlib inline"
   ]
  },
  {
   "cell_type": "code",
   "execution_count": 4,
   "metadata": {},
   "outputs": [],
   "source": [
    "if not os.path.exists('/data'):\n",
    "    os.makedirs('data')"
   ]
  },
  {
   "cell_type": "code",
   "execution_count": 31,
   "metadata": {},
   "outputs": [],
   "source": [
    "!wget -o 'ChestXRay2017.zip' https://data.mendeley.com/datasets/rscbjbr9sj/2/files/f12eaf6d-6023-432f-acc9-80c9d7393433/ChestXRay2017.zip?dl=1"
   ]
  },
  {
   "cell_type": "code",
   "execution_count": 9,
   "metadata": {},
   "outputs": [],
   "source": [
    "from zipfile import ZipFile\n",
    "with ZipFile('ChestXRay2017.zip', 'r') as dataobj:\n",
    "    dataobj.extractall(path='data')"
   ]
  },
  {
   "cell_type": "code",
   "execution_count": 29,
   "metadata": {},
   "outputs": [
    {
     "data": {
      "text/plain": [
       "'bacteria'"
      ]
     },
     "execution_count": 29,
     "metadata": {},
     "output_type": "execute_result"
    }
   ],
   "source": [
    "string = 'person1905_bacteria_4801.jpeg'\n",
    "m = string.split('_')\n",
    "m[1]"
   ]
  },
  {
   "cell_type": "code",
   "execution_count": 30,
   "metadata": {},
   "outputs": [
    {
     "name": "stdout",
     "output_type": "stream",
     "text": [
      "Length of Virus Infected Cases are:  1345\n",
      "Length of Bacteria Infected Cases are :  2540\n"
     ]
    }
   ],
   "source": [
    "files = os.listdir('data/chest_xray/train/PNEUMONIA')\n",
    "train_virus_files = []\n",
    "train_bacteria_files = []\n",
    "for file in files:\n",
    "    if file.split('_')[1] == 'virus':\n",
    "        train_virus_files.append(file)\n",
    "    else:\n",
    "        train_bacteria_files.append(file)\n",
    "print(\"Length of Virus Infected Cases are in Training Dataset: \", len(train_virus_files))\n",
    "print(\"Length of Bacteria Infected Cases are in Testing Dataset: \", len(train_bacteria_files))"
   ]
  },
  {
   "cell_type": "code",
   "execution_count": 34,
   "metadata": {},
   "outputs": [
    {
     "data": {
      "text/plain": [
       "'NORMAL2'"
      ]
     },
     "execution_count": 34,
     "metadata": {},
     "output_type": "execute_result"
    }
   ],
   "source": [
    "string = 'NORMAL2-IM-1205-0001.jpeg'\n",
    "string.split('-')[0]"
   ]
  },
  {
   "cell_type": "code",
   "execution_count": 36,
   "metadata": {},
   "outputs": [
    {
     "name": "stdout",
     "output_type": "stream",
     "text": [
      "Length of IM Files:  597\n",
      "Length of Normal Files:  753\n"
     ]
    }
   ],
   "source": [
    "normal_files_all = os.listdir('data/chest_xray/train/NORMAL')\n",
    "train_im_files = []\n",
    "train_normal_files = []\n",
    "for file in normal_files_all:\n",
    "    if file.split('-')[0] == 'IM':\n",
    "        im_files.append(file)\n",
    "    else:\n",
    "        normal_files.append(file)\n",
    "print(\"Length of IM Files: \", len(im_files))\n",
    "print(\"Length of Normal Files: \", len(normal_files))"
   ]
  },
  {
   "cell_type": "code",
   "execution_count": null,
   "metadata": {},
   "outputs": [],
   "source": []
  }
 ],
 "metadata": {
  "kernelspec": {
   "display_name": "conda_pytorch_p36",
   "language": "python",
   "name": "conda_pytorch_p36"
  },
  "language_info": {
   "codemirror_mode": {
    "name": "ipython",
    "version": 3
   },
   "file_extension": ".py",
   "mimetype": "text/x-python",
   "name": "python",
   "nbconvert_exporter": "python",
   "pygments_lexer": "ipython3",
   "version": "3.6.5"
  }
 },
 "nbformat": 4,
 "nbformat_minor": 4
}
